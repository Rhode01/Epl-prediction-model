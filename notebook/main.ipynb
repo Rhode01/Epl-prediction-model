{
 "cells": [
  {
   "cell_type": "code",
   "execution_count": 1,
   "id": "01785581",
   "metadata": {},
   "outputs": [],
   "source": [
    "import pandas as pd\n",
    "import matplotlib.pyplot as plt\n",
    "import numpy as np\n",
    "import tensorflow as tf\n",
    "from sklearn.model_selection import train_test_split"
   ]
  },
  {
   "cell_type": "code",
   "execution_count": 2,
   "id": "9abfc6d3",
   "metadata": {},
   "outputs": [],
   "source": [
    "df = pd.read_csv(\"../dataset/epl-2024-2025-data.csv\")"
   ]
  },
  {
   "cell_type": "code",
   "execution_count": 5,
   "id": "cf76e75e",
   "metadata": {},
   "outputs": [
    {
     "data": {
      "text/plain": [
       "Div         0\n",
       "Date        0\n",
       "Time        0\n",
       "HomeTeam    0\n",
       "AwayTeam    0\n",
       "FTHG        0\n",
       "FTAG        0\n",
       "FTR         0\n",
       "HTHG        0\n",
       "HTAG        0\n",
       "HTR         0\n",
       "Referee     0\n",
       "HS          0\n",
       "AS          0\n",
       "HST         0\n",
       "AST         0\n",
       "HF          0\n",
       "AF          0\n",
       "HC          0\n",
       "AC          0\n",
       "HY          0\n",
       "AY          0\n",
       "HR          0\n",
       "AR          0\n",
       "dtype: int64"
      ]
     },
     "execution_count": 5,
     "metadata": {},
     "output_type": "execute_result"
    }
   ],
   "source": [
    "df.isnull().sum()"
   ]
  },
  {
   "cell_type": "code",
   "execution_count": 6,
   "id": "e4a4948a",
   "metadata": {},
   "outputs": [
    {
     "name": "stdout",
     "output_type": "stream",
     "text": [
      "\n",
      "Numeric summary:\n",
      "              FTHG        FTAG        HTHG        HTAG          HS          AS  \\\n",
      "count  380.000000  380.000000  380.000000  380.000000  380.000000  380.000000   \n",
      "mean     1.513158    1.421053    0.752632    0.610526   13.752632   12.165789   \n",
      "std      1.277917    1.189922    0.875867    0.828831    5.588045    5.409987   \n",
      "min      0.000000    0.000000    0.000000    0.000000    2.000000    1.000000   \n",
      "25%      1.000000    1.000000    0.000000    0.000000   10.000000    9.000000   \n",
      "50%      1.000000    1.000000    1.000000    0.000000   13.000000   11.500000   \n",
      "75%      2.000000    2.000000    1.000000    1.000000   17.000000   15.000000   \n",
      "max      7.000000    6.000000    4.000000    5.000000   36.000000   37.000000   \n",
      "\n",
      "              HST         AST          HF          AF          HC          AC  \\\n",
      "count  380.000000  380.000000  380.000000  380.000000  380.000000  380.000000   \n",
      "mean     4.834211    4.265789   10.789474   11.276316    5.426316    4.871053   \n",
      "std      2.488260    2.341636    3.639840    3.513257    3.183457    3.031358   \n",
      "min      0.000000    0.000000    2.000000    1.000000    0.000000    0.000000   \n",
      "25%      3.000000    3.000000    8.000000    9.000000    3.000000    3.000000   \n",
      "50%      5.000000    4.000000   11.000000   11.000000    5.000000    4.000000   \n",
      "75%      6.000000    6.000000   13.000000   14.000000    7.000000    7.000000   \n",
      "max     16.000000   13.000000   21.000000   21.000000   17.000000   18.000000   \n",
      "\n",
      "               HY          AY          HR          AR  \n",
      "count  380.000000  380.000000  380.000000  380.000000  \n",
      "mean     1.905263    2.144737    0.068421    0.068421  \n",
      "std      1.395989    1.430021    0.263030    0.252800  \n",
      "min      0.000000    0.000000    0.000000    0.000000  \n",
      "25%      1.000000    1.000000    0.000000    0.000000  \n",
      "50%      2.000000    2.000000    0.000000    0.000000  \n",
      "75%      3.000000    3.000000    0.000000    0.000000  \n",
      "max      7.000000    8.000000    2.000000    1.000000  \n",
      "\n",
      "Value counts for Div:\n",
      " Div\n",
      "E0    380\n",
      "Name: count, dtype: int64\n",
      "\n",
      "Value counts for Date:\n",
      " Date\n",
      "25/05/2025    10\n",
      "21/09/2024     8\n",
      "14/09/2024     8\n",
      "26/12/2024     8\n",
      "28/09/2024     7\n",
      "Name: count, dtype: int64\n",
      "\n",
      "Value counts for Time:\n",
      " Time\n",
      "15:00    137\n",
      "14:00     50\n",
      "20:00     38\n",
      "17:30     31\n",
      "16:30     28\n",
      "Name: count, dtype: int64\n",
      "\n",
      "Value counts for HomeTeam:\n",
      " HomeTeam\n",
      "Man United    19\n",
      "Ipswich       19\n",
      "Arsenal       19\n",
      "Everton       19\n",
      "Newcastle     19\n",
      "Name: count, dtype: int64\n",
      "\n",
      "Value counts for AwayTeam:\n",
      " AwayTeam\n",
      "Fulham         19\n",
      "Liverpool      19\n",
      "Wolves         19\n",
      "Brighton       19\n",
      "Southampton    19\n",
      "Name: count, dtype: int64\n",
      "\n",
      "Value counts for FTR:\n",
      " FTR\n",
      "H    155\n",
      "A    132\n",
      "D     93\n",
      "Name: count, dtype: int64\n",
      "\n",
      "Value counts for HTR:\n",
      " HTR\n",
      "H    142\n",
      "D    135\n",
      "A    103\n",
      "Name: count, dtype: int64\n",
      "\n",
      "Value counts for Referee:\n",
      " Referee\n",
      "A Taylor      30\n",
      "M Oliver      25\n",
      "C Kavanagh    24\n",
      "S Hooper      23\n",
      "S Barrott     23\n",
      "Name: count, dtype: int64\n"
     ]
    }
   ],
   "source": [
    "numeric_cols = df.select_dtypes(include=['int64', 'float64']).columns\n",
    "print(\"\\nNumeric summary:\\n\", df[numeric_cols].describe())\n",
    "\n",
    "cat_cols = df.select_dtypes(include=['object', 'category']).columns\n",
    "for col in cat_cols:\n",
    "    print(f\"\\nValue counts for {col}:\\n\", df[col].value_counts().head(5))\n"
   ]
  },
  {
   "cell_type": "code",
   "execution_count": null,
   "id": "6b76b730",
   "metadata": {},
   "outputs": [
    {
     "data": {
      "text/plain": [
       "<Figure size 1200x800 with 0 Axes>"
      ]
     },
     "execution_count": 13,
     "metadata": {},
     "output_type": "execute_result"
    },
    {
     "data": {
      "text/plain": [
       "<Figure size 1200x800 with 0 Axes>"
      ]
     },
     "metadata": {},
     "output_type": "display_data"
    }
   ],
   "source": [
    "plt.figure(figsize=(12,8))\n"
   ]
  },
  {
   "cell_type": "code",
   "execution_count": null,
   "id": "92846e54",
   "metadata": {},
   "outputs": [],
   "source": []
  }
 ],
 "metadata": {
  "kernelspec": {
   "display_name": ".venv",
   "language": "python",
   "name": "python3"
  },
  "language_info": {
   "codemirror_mode": {
    "name": "ipython",
    "version": 3
   },
   "file_extension": ".py",
   "mimetype": "text/x-python",
   "name": "python",
   "nbconvert_exporter": "python",
   "pygments_lexer": "ipython3",
   "version": "3.12.3"
  }
 },
 "nbformat": 4,
 "nbformat_minor": 5
}
